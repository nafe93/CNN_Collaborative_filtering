{
 "cells": [
  {
   "cell_type": "markdown",
   "metadata": {},
   "source": [
    "# Data preprocessing "
   ]
  },
  {
   "cell_type": "code",
   "execution_count": 156,
   "metadata": {},
   "outputs": [],
   "source": [
    "import numpy as np\n",
    "import pandas as pd\n",
    "from surprise import Reader\n",
    "from surprise import Dataset\n",
    "from scipy import spatial"
   ]
  },
  {
   "cell_type": "code",
   "execution_count": 48,
   "metadata": {},
   "outputs": [],
   "source": [
    "df = pd.read_csv('end_style.csv')"
   ]
  },
  {
   "cell_type": "code",
   "execution_count": 49,
   "metadata": {},
   "outputs": [],
   "source": [
    "df = df.drop(['Unnamed: 0', 'Unnamed: 0.1'], axis='columns')"
   ]
  },
  {
   "cell_type": "code",
   "execution_count": 50,
   "metadata": {
    "scrolled": true
   },
   "outputs": [
    {
     "data": {
      "text/html": [
       "<div>\n",
       "<style scoped>\n",
       "    .dataframe tbody tr th:only-of-type {\n",
       "        vertical-align: middle;\n",
       "    }\n",
       "\n",
       "    .dataframe tbody tr th {\n",
       "        vertical-align: top;\n",
       "    }\n",
       "\n",
       "    .dataframe thead th {\n",
       "        text-align: right;\n",
       "    }\n",
       "</style>\n",
       "<table border=\"1\" class=\"dataframe\">\n",
       "  <thead>\n",
       "    <tr style=\"text-align: right;\">\n",
       "      <th></th>\n",
       "      <th>id</th>\n",
       "      <th>gender</th>\n",
       "      <th>masterCategory</th>\n",
       "      <th>subCategory</th>\n",
       "      <th>articleType</th>\n",
       "      <th>baseColour</th>\n",
       "      <th>season</th>\n",
       "      <th>year</th>\n",
       "      <th>usage</th>\n",
       "      <th>productDisplayName</th>\n",
       "      <th>code</th>\n",
       "      <th>predict</th>\n",
       "    </tr>\n",
       "  </thead>\n",
       "  <tbody>\n",
       "    <tr>\n",
       "      <td>0</td>\n",
       "      <td>15970</td>\n",
       "      <td>Men</td>\n",
       "      <td>Apparel</td>\n",
       "      <td>Topwear</td>\n",
       "      <td>Shirts</td>\n",
       "      <td>Navy Blue</td>\n",
       "      <td>Fall</td>\n",
       "      <td>2011.0</td>\n",
       "      <td>Casual</td>\n",
       "      <td>Turtle Check Men Navy Blue Shirt</td>\n",
       "      <td>1</td>\n",
       "      <td>1</td>\n",
       "    </tr>\n",
       "    <tr>\n",
       "      <td>1</td>\n",
       "      <td>39386</td>\n",
       "      <td>Men</td>\n",
       "      <td>Apparel</td>\n",
       "      <td>Bottomwear</td>\n",
       "      <td>Jeans</td>\n",
       "      <td>Blue</td>\n",
       "      <td>Summer</td>\n",
       "      <td>2012.0</td>\n",
       "      <td>Casual</td>\n",
       "      <td>Peter England Men Party Blue Jeans</td>\n",
       "      <td>19</td>\n",
       "      <td>19</td>\n",
       "    </tr>\n",
       "    <tr>\n",
       "      <td>2</td>\n",
       "      <td>59263</td>\n",
       "      <td>Women</td>\n",
       "      <td>Accessories</td>\n",
       "      <td>Watches</td>\n",
       "      <td>Watches</td>\n",
       "      <td>Silver</td>\n",
       "      <td>Winter</td>\n",
       "      <td>2016.0</td>\n",
       "      <td>Casual</td>\n",
       "      <td>Titan Women Silver Watch</td>\n",
       "      <td>3</td>\n",
       "      <td>3</td>\n",
       "    </tr>\n",
       "    <tr>\n",
       "      <td>3</td>\n",
       "      <td>21379</td>\n",
       "      <td>Men</td>\n",
       "      <td>Apparel</td>\n",
       "      <td>Bottomwear</td>\n",
       "      <td>Track Pants</td>\n",
       "      <td>Black</td>\n",
       "      <td>Fall</td>\n",
       "      <td>2011.0</td>\n",
       "      <td>Casual</td>\n",
       "      <td>Manchester United Men Solid Black Track Pants</td>\n",
       "      <td>30</td>\n",
       "      <td>28</td>\n",
       "    </tr>\n",
       "    <tr>\n",
       "      <td>4</td>\n",
       "      <td>53759</td>\n",
       "      <td>Men</td>\n",
       "      <td>Apparel</td>\n",
       "      <td>Topwear</td>\n",
       "      <td>Tshirts</td>\n",
       "      <td>Grey</td>\n",
       "      <td>Summer</td>\n",
       "      <td>2012.0</td>\n",
       "      <td>Casual</td>\n",
       "      <td>Puma Men Grey T-shirt</td>\n",
       "      <td>0</td>\n",
       "      <td>0</td>\n",
       "    </tr>\n",
       "    <tr>\n",
       "      <td>...</td>\n",
       "      <td>...</td>\n",
       "      <td>...</td>\n",
       "      <td>...</td>\n",
       "      <td>...</td>\n",
       "      <td>...</td>\n",
       "      <td>...</td>\n",
       "      <td>...</td>\n",
       "      <td>...</td>\n",
       "      <td>...</td>\n",
       "      <td>...</td>\n",
       "      <td>...</td>\n",
       "      <td>...</td>\n",
       "    </tr>\n",
       "    <tr>\n",
       "      <td>43742</td>\n",
       "      <td>17036</td>\n",
       "      <td>Men</td>\n",
       "      <td>Footwear</td>\n",
       "      <td>Shoes</td>\n",
       "      <td>Casual Shoes</td>\n",
       "      <td>White</td>\n",
       "      <td>Summer</td>\n",
       "      <td>2013.0</td>\n",
       "      <td>Casual</td>\n",
       "      <td>Gas Men Caddy Casual Shoe</td>\n",
       "      <td>2</td>\n",
       "      <td>2</td>\n",
       "    </tr>\n",
       "    <tr>\n",
       "      <td>43743</td>\n",
       "      <td>6461</td>\n",
       "      <td>Men</td>\n",
       "      <td>Footwear</td>\n",
       "      <td>Flip Flops</td>\n",
       "      <td>Flip Flops</td>\n",
       "      <td>Red</td>\n",
       "      <td>Summer</td>\n",
       "      <td>2011.0</td>\n",
       "      <td>Casual</td>\n",
       "      <td>Lotto Men's Soccer Track Flip Flop</td>\n",
       "      <td>11</td>\n",
       "      <td>11</td>\n",
       "    </tr>\n",
       "    <tr>\n",
       "      <td>43744</td>\n",
       "      <td>18842</td>\n",
       "      <td>Men</td>\n",
       "      <td>Apparel</td>\n",
       "      <td>Topwear</td>\n",
       "      <td>Tshirts</td>\n",
       "      <td>Blue</td>\n",
       "      <td>Fall</td>\n",
       "      <td>2011.0</td>\n",
       "      <td>Casual</td>\n",
       "      <td>Puma Men Graphic Stellar Blue Tshirt</td>\n",
       "      <td>0</td>\n",
       "      <td>0</td>\n",
       "    </tr>\n",
       "    <tr>\n",
       "      <td>43745</td>\n",
       "      <td>46694</td>\n",
       "      <td>Women</td>\n",
       "      <td>Personal Care</td>\n",
       "      <td>Fragrance</td>\n",
       "      <td>Perfume and Body Mist</td>\n",
       "      <td>Blue</td>\n",
       "      <td>Spring</td>\n",
       "      <td>2017.0</td>\n",
       "      <td>Casual</td>\n",
       "      <td>Rasasi Women Blue Lady Perfume</td>\n",
       "      <td>18</td>\n",
       "      <td>3</td>\n",
       "    </tr>\n",
       "    <tr>\n",
       "      <td>43746</td>\n",
       "      <td>51623</td>\n",
       "      <td>Women</td>\n",
       "      <td>Accessories</td>\n",
       "      <td>Watches</td>\n",
       "      <td>Watches</td>\n",
       "      <td>Pink</td>\n",
       "      <td>Winter</td>\n",
       "      <td>2016.0</td>\n",
       "      <td>Casual</td>\n",
       "      <td>Fossil Women Pink Dial Chronograph Watch ES3050</td>\n",
       "      <td>3</td>\n",
       "      <td>3</td>\n",
       "    </tr>\n",
       "  </tbody>\n",
       "</table>\n",
       "<p>43747 rows × 12 columns</p>\n",
       "</div>"
      ],
      "text/plain": [
       "          id gender masterCategory subCategory            articleType  \\\n",
       "0      15970    Men        Apparel     Topwear                 Shirts   \n",
       "1      39386    Men        Apparel  Bottomwear                  Jeans   \n",
       "2      59263  Women    Accessories     Watches                Watches   \n",
       "3      21379    Men        Apparel  Bottomwear            Track Pants   \n",
       "4      53759    Men        Apparel     Topwear                Tshirts   \n",
       "...      ...    ...            ...         ...                    ...   \n",
       "43742  17036    Men       Footwear       Shoes           Casual Shoes   \n",
       "43743   6461    Men       Footwear  Flip Flops             Flip Flops   \n",
       "43744  18842    Men        Apparel     Topwear                Tshirts   \n",
       "43745  46694  Women  Personal Care   Fragrance  Perfume and Body Mist   \n",
       "43746  51623  Women    Accessories     Watches                Watches   \n",
       "\n",
       "      baseColour  season    year   usage  \\\n",
       "0      Navy Blue    Fall  2011.0  Casual   \n",
       "1           Blue  Summer  2012.0  Casual   \n",
       "2         Silver  Winter  2016.0  Casual   \n",
       "3          Black    Fall  2011.0  Casual   \n",
       "4           Grey  Summer  2012.0  Casual   \n",
       "...          ...     ...     ...     ...   \n",
       "43742      White  Summer  2013.0  Casual   \n",
       "43743        Red  Summer  2011.0  Casual   \n",
       "43744       Blue    Fall  2011.0  Casual   \n",
       "43745       Blue  Spring  2017.0  Casual   \n",
       "43746       Pink  Winter  2016.0  Casual   \n",
       "\n",
       "                                    productDisplayName  code  predict  \n",
       "0                     Turtle Check Men Navy Blue Shirt     1        1  \n",
       "1                   Peter England Men Party Blue Jeans    19       19  \n",
       "2                             Titan Women Silver Watch     3        3  \n",
       "3        Manchester United Men Solid Black Track Pants    30       28  \n",
       "4                                Puma Men Grey T-shirt     0        0  \n",
       "...                                                ...   ...      ...  \n",
       "43742                        Gas Men Caddy Casual Shoe     2        2  \n",
       "43743               Lotto Men's Soccer Track Flip Flop    11       11  \n",
       "43744             Puma Men Graphic Stellar Blue Tshirt     0        0  \n",
       "43745                   Rasasi Women Blue Lady Perfume    18        3  \n",
       "43746  Fossil Women Pink Dial Chronograph Watch ES3050     3        3  \n",
       "\n",
       "[43747 rows x 12 columns]"
      ]
     },
     "execution_count": 50,
     "metadata": {},
     "output_type": "execute_result"
    }
   ],
   "source": [
    "df"
   ]
  },
  {
   "cell_type": "code",
   "execution_count": 51,
   "metadata": {},
   "outputs": [],
   "source": [
    "df_male = df[df['gender']=='Men']\n",
    "df_female = df[df['gender']=='Women']"
   ]
  },
  {
   "cell_type": "code",
   "execution_count": 239,
   "metadata": {},
   "outputs": [],
   "source": [
    "# gathering data by men\n",
    "dummy_masterCat = pd.get_dummies(df_male['masterCategory'])\n",
    "dummy_code = pd.get_dummies(df_male['code'])\n",
    "dummy_predict = pd.get_dummies(df_male['predict'])\n",
    "dummy_baseColour = pd.get_dummies(df_male['baseColour'])\n",
    "dummy_season = pd.get_dummies(df_male['season'])\n",
    "dummy_usage = pd.get_dummies(df_male['usage'])\n",
    "year = df_male['year']\n",
    "\n",
    "# gathering data by women\n",
    "dummy_masterCat_f = pd.get_dummies(df_female['masterCategory'])\n",
    "dummy_code_f = pd.get_dummies(df_female['code'])\n",
    "dummy_predict_f = pd.get_dummies(df_female['predict'])\n",
    "dummy_baseColour_f = pd.get_dummies(df_female['baseColour'])\n",
    "dummy_season_f = pd.get_dummies(df_female['season'])\n",
    "dummy_usage_f = pd.get_dummies(df_female['usage'])\n",
    "year_f = df_female['year']"
   ]
  },
  {
   "cell_type": "code",
   "execution_count": 240,
   "metadata": {},
   "outputs": [],
   "source": [
    "male_real = dummy_season\n",
    "male_real = male_real.join(dummy_code)\n",
    "male_real = male_real.join(year)\n",
    "male_real = male_real.join(dummy_baseColour)\n",
    "male_real = male_real.join(dummy_usage)\n",
    "\n",
    "male_predict = dummy_season\n",
    "male_predict = male_predict.join(dummy_predict)\n",
    "male_predict = male_predict.join(year)\n",
    "male_predict = male_predict.join(dummy_baseColour)\n",
    "male_predict = male_predict.join(dummy_usage)\n",
    "\n",
    "female_predict = dummy_season_f\n",
    "female_predict = female_predict.join(dummy_code_f)\n",
    "female_predict = female_predict.join(year_f)\n",
    "female_predict = female_predict.join(dummy_baseColour_f)\n",
    "female_predict = female_predict.join(dummy_usage_f)\n",
    "\n",
    "female_predict = dummy_season_f\n",
    "female_predict = female_predict.join(dummy_predict_f)\n",
    "female_predict = female_predict.join(year_f)\n",
    "female_predict = female_predict.join(dummy_baseColour_f)\n",
    "female_predict = female_predict.join(dummy_usage_f)"
   ]
  },
  {
   "cell_type": "code",
   "execution_count": 241,
   "metadata": {},
   "outputs": [
    {
     "name": "stderr",
     "output_type": "stream",
     "text": [
      "/Users/anel/opt/anaconda3/lib/python3.7/site-packages/ipykernel_launcher.py:3: FutureWarning: Method .as_matrix will be removed in a future version. Use .values instead.\n",
      "  This is separate from the ipykernel package so we can avoid doing imports until\n",
      "/Users/anel/opt/anaconda3/lib/python3.7/site-packages/ipykernel_launcher.py:4: FutureWarning: Method .as_matrix will be removed in a future version. Use .values instead.\n",
      "  after removing the cwd from sys.path.\n",
      "/Users/anel/opt/anaconda3/lib/python3.7/site-packages/ipykernel_launcher.py:5: FutureWarning: Method .as_matrix will be removed in a future version. Use .values instead.\n",
      "  \"\"\"\n",
      "/Users/anel/opt/anaconda3/lib/python3.7/site-packages/ipykernel_launcher.py:6: FutureWarning: Method .as_matrix will be removed in a future version. Use .values instead.\n",
      "  \n"
     ]
    }
   ],
   "source": [
    "# to matrix type\n",
    "\n",
    "male_real_mat = male_real.as_matrix()\n",
    "male_predict_mat = male_predict.as_matrix()\n",
    "female_real_mat = female_real.as_matrix()\n",
    "female_predict_mat = female_predict.as_matrix()"
   ]
  },
  {
   "cell_type": "markdown",
   "metadata": {},
   "source": [
    "# Simple recommendation system"
   ]
  },
  {
   "cell_type": "code",
   "execution_count": 182,
   "metadata": {},
   "outputs": [],
   "source": [
    "def simple_similar_euclidean(data, product):\n",
    "    \n",
    "    similar =[]\n",
    "    for i in data:\n",
    "        sim = spatial.distance.euclidean(i, product)\n",
    "        similar.append(sim)\n",
    "    similar = np.array(similar)\n",
    "    similar_norm = similar/similar.max()\n",
    "    \n",
    "    return similar_norm \n",
    "\n",
    "def simple_rating(similarity, data):\n",
    "    id_sim = []\n",
    "    for n, i in enumerate(similarity):\n",
    "        id_sim.append([i, list(data['id'])[n]])\n",
    "    sorted_similarity = sorted(id_sim)\n",
    "    return sorted_similarity"
   ]
  },
  {
   "cell_type": "code",
   "execution_count": 188,
   "metadata": {
    "scrolled": false
   },
   "outputs": [
    {
     "data": {
      "text/plain": [
       "12369"
      ]
     },
     "execution_count": 188,
     "metadata": {},
     "output_type": "execute_result"
    }
   ],
   "source": [
    "list(df_male['id'])[10]"
   ]
  },
  {
   "cell_type": "code",
   "execution_count": 224,
   "metadata": {},
   "outputs": [],
   "source": [
    "s_real = simple_recommend_euclidean(male_real_mat, male_real_mat[10])\n",
    "rating_list = simple_rating(s_real, df_male)"
   ]
  },
  {
   "cell_type": "code",
   "execution_count": 236,
   "metadata": {},
   "outputs": [
    {
     "data": {
      "text/plain": [
       "[[1.0, 50764], [1.0, 50765]]"
      ]
     },
     "execution_count": 236,
     "metadata": {},
     "output_type": "execute_result"
    }
   ],
   "source": [
    "rating_list[-3:-1]"
   ]
  },
  {
   "cell_type": "code",
   "execution_count": 242,
   "metadata": {},
   "outputs": [],
   "source": [
    "s_cnn = simple_recommend_euclidean(male_predict_mat, male_predict_mat[10])\n",
    "rating_list_cnn = simple_rating(s_cnn, df_male)"
   ]
  },
  {
   "cell_type": "code",
   "execution_count": 247,
   "metadata": {},
   "outputs": [
    {
     "data": {
      "text/plain": [
       "[[1.0, 50764], [1.0, 50765]]"
      ]
     },
     "execution_count": 247,
     "metadata": {},
     "output_type": "execute_result"
    }
   ],
   "source": [
    "rating_list_cnn[-3:-1]"
   ]
  },
  {
   "cell_type": "code",
   "execution_count": 258,
   "metadata": {},
   "outputs": [],
   "source": [
    "s_real_f = simple_recommend_euclidean(female_real_mat, female_real_mat[10])\n",
    "rating_list_f = simple_rating(s_real_f, df_female)"
   ]
  },
  {
   "cell_type": "code",
   "execution_count": 260,
   "metadata": {},
   "outputs": [],
   "source": [
    "s_cnn_f = simple_recommend_euclidean(female_real_mat, female_real_mat[10])\n",
    "rating_list_cnn_f = simple_rating(s_cnn_f, df_female)"
   ]
  },
  {
   "cell_type": "code",
   "execution_count": 301,
   "metadata": {},
   "outputs": [
    {
     "data": {
      "text/plain": [
       "14587.2"
      ]
     },
     "execution_count": 301,
     "metadata": {},
     "output_type": "execute_result"
    }
   ],
   "source": [
    "len(df_female)*0.8"
   ]
  },
  {
   "cell_type": "code",
   "execution_count": 302,
   "metadata": {},
   "outputs": [
    {
     "data": {
      "text/plain": [
       "[[1.0, 45366], [1.0, 45367]]"
      ]
     },
     "execution_count": 302,
     "metadata": {},
     "output_type": "execute_result"
    }
   ],
   "source": [
    "rating_list_f[14587:14589]"
   ]
  },
  {
   "cell_type": "code",
   "execution_count": 303,
   "metadata": {},
   "outputs": [
    {
     "data": {
      "text/plain": [
       "[[1.0, 45366], [1.0, 45367]]"
      ]
     },
     "execution_count": 303,
     "metadata": {},
     "output_type": "execute_result"
    }
   ],
   "source": [
    "rating_list_cnn_f[14587:14589]"
   ]
  },
  {
   "cell_type": "markdown",
   "metadata": {},
   "source": [
    "Real_data_male: | id: 12369 | ideal(0.0): [0.0, 9248], [0.0, 9253] | good(0.25): [0.32444284226152503, 17501], [0.32444284226152503, 17502] | normal(0.5): [0.3746343246326776, 14605], [0.3746343246326776, 14606] | bad(0.75): [0.4588314677411235, 34234], [0.4588314677411235, 34235] | very bad(1): [1.0, 50764], [1.0, 50765]\n",
    "\n",
    "Predict_data_male: | id: 12369 | ideal(0.0): [0.0, 9248], [0.0, 9253]| good(0.25): [0.32444284226152503, 17511], [0.32444284226152503, 17512] | normal(0.5): [0.3746343246326776, 13939], [0.3746343246326776, 13945] | bad(0.75): [0.4588314677411235, 34234], [0.4588314677411235, 34235] | very bad(1): [1.0, 50764], [1.0, 50765]\n",
    "\n",
    "Real_data_female:| id: 20099 | ideal(0.0): [0.0, 11790], [0.0, 11794] | good(0.005): [0.4472135954999579, 11545], [0.4472135954999579, 11547] | normal(0.01): [0.6324555320336759, 11247], [0.6324555320336759, 11370] | bad(0.2): [0.7745966692414834, 27428], [0.7745966692414834, 27434] | very bad(1): [1.0, 45366], [1.0, 45367]\n",
    "\n",
    "Predict_data_male: | id: 12369 | ideal(0.0): [0.0, 11790], [0.0, 11794] | good(0.005): [0.4472135954999579, 11545], [0.4472135954999579, 11547] | normal(0.01): [0.6324555320336759, 11247], [0.6324555320336759, 11370] | bad(0.2):  [0.7745966692414834, 27428], [0.7745966692414834, 27434] | very bad(1): [1.0, 45366], [1.0, 45367]"
   ]
  },
  {
   "cell_type": "markdown",
   "metadata": {},
   "source": [
    "# Creating of random personal rating"
   ]
  },
  {
   "cell_type": "code",
   "execution_count": 158,
   "metadata": {},
   "outputs": [],
   "source": [
    "import random "
   ]
  },
  {
   "cell_type": "code",
   "execution_count": 159,
   "metadata": {},
   "outputs": [],
   "source": [
    "def create_random_rating(data, product):\n",
    "    similar =[]\n",
    "    for i in data:\n",
    "        sim = spatial.distance.euclidean(i, product)\n",
    "        similar.append(sim)\n",
    "    similar = np.array(similar)\n",
    "    similar_norm = similar/similar.max()\n",
    "    \n",
    "    rand = random.choice([1,2,3])\n",
    "    rating = []\n",
    "    # rating system 1\n",
    "    if rand == 1:\n",
    "        for i in similar_norm:\n",
    "            if i <= 0.2:\n",
    "                rating.append(5)\n",
    "            elif i<= 0.4:\n",
    "                rating.append(4)\n",
    "            elif i <= 0.6:\n",
    "                rating.append(3)\n",
    "            elif i <= 0.8:\n",
    "                rating.append(2)\n",
    "            else:\n",
    "                rating.append(1)\n",
    "    elif rand == 2:\n",
    "        for i in similar_norm:\n",
    "            if i <= 0.1:\n",
    "                rating.append(5)\n",
    "            elif i<= 0.4:\n",
    "                rating.append(4)\n",
    "            elif i <= 0.7:\n",
    "                rating.append(3)\n",
    "            else:\n",
    "                rating.append(1)\n",
    "    else:\n",
    "        for i in similar_norm:\n",
    "            if i <= 0.1:\n",
    "                rating.append(5)\n",
    "            elif i<= 0.3:\n",
    "                rating.append(4)\n",
    "            else:\n",
    "                rating.append(2)\n",
    "        \n",
    "    return rating"
   ]
  },
  {
   "cell_type": "code",
   "execution_count": 358,
   "metadata": {},
   "outputs": [],
   "source": [
    "def random_person(data):\n",
    "    \n",
    "    ids = np.arange(0, 21914)\n",
    "    n_likes = [50, 100, 150, 200, 500]\n",
    "    rand_likes = random.choice(n_likes)\n",
    "    lovely_product = random.choice(ids)\n",
    "    print('lovely product:', lovely_product)\n",
    "    rating = create_random_rating(data, data[lovely_product])\n",
    "    \n",
    "    personal_rating = []\n",
    "    liked_products = []\n",
    "    c = 0\n",
    "    while c <= rand_likes:\n",
    "        rand_product = random.choice(ids)\n",
    "        product_rating = rating[rand_product]\n",
    "        liked_products.append(list(df_male['id'])[rand_product])\n",
    "        personal_rating.append(product_rating)\n",
    "        c+=1\n",
    "    \n",
    "    return [liked_products, personal_rating]\n",
    "\n"
   ]
  },
  {
   "cell_type": "code",
   "execution_count": 349,
   "metadata": {},
   "outputs": [],
   "source": [
    "names = ['A', 'B', 'C', 'D', 'E', 'F', 'G', 'H', 'I', 'J', 'K', 'L', 'M', 'N', 'O', 'P', 'Q', 'R', 'S', 'T', 'U', 'V', 'W', 'X', 'Y', 'Z']"
   ]
  },
  {
   "cell_type": "code",
   "execution_count": 359,
   "metadata": {},
   "outputs": [
    {
     "name": "stdout",
     "output_type": "stream",
     "text": [
      "A\n",
      "lovely product: 14275\n",
      "B\n",
      "lovely product: 2970\n",
      "C\n",
      "lovely product: 13209\n",
      "D\n",
      "lovely product: 18626\n",
      "E\n",
      "lovely product: 21781\n",
      "F\n",
      "lovely product: 16449\n",
      "G\n",
      "lovely product: 11557\n",
      "H\n",
      "lovely product: 6188\n",
      "I\n",
      "lovely product: 12880\n",
      "J\n",
      "lovely product: 20023\n",
      "K\n",
      "lovely product: 8484\n",
      "L\n",
      "lovely product: 5329\n",
      "M\n",
      "lovely product: 12777\n",
      "N\n",
      "lovely product: 17336\n",
      "O\n",
      "lovely product: 21344\n",
      "P\n",
      "lovely product: 14337\n",
      "Q\n",
      "lovely product: 21214\n",
      "R\n",
      "lovely product: 16272\n",
      "S\n",
      "lovely product: 5850\n",
      "T\n",
      "lovely product: 15443\n",
      "U\n",
      "lovely product: 10645\n",
      "V\n",
      "lovely product: 8445\n",
      "W\n",
      "lovely product: 9003\n",
      "X\n",
      "lovely product: 13295\n",
      "Y\n",
      "lovely product: 18569\n",
      "Z\n",
      "lovely product: 13261\n"
     ]
    }
   ],
   "source": [
    "name_lists = []\n",
    "ratings_personal = []\n",
    "for i in names:\n",
    "    print(i)\n",
    "    person = random_person(male_real_mat)\n",
    "    n = len(person[0])\n",
    "    name_list = [i]*n\n",
    "    name_lists.append(name_list)\n",
    "    ratings_personal.append(person)\n"
   ]
  },
  {
   "cell_type": "code",
   "execution_count": 360,
   "metadata": {},
   "outputs": [],
   "source": [
    "users = []\n",
    "for i in name_lists:\n",
    "    users = users+i\n",
    "\n",
    "ids = []\n",
    "for i in ratings_personal:\n",
    "    ids = ids + i[0]\n",
    "    \n",
    "rates = []\n",
    "for i in ratings_personal:\n",
    "    rates = rates + i[1]\n",
    "    "
   ]
  },
  {
   "cell_type": "code",
   "execution_count": 361,
   "metadata": {},
   "outputs": [
    {
     "name": "stdout",
     "output_type": "stream",
     "text": [
      "5526 5526 5526\n"
     ]
    }
   ],
   "source": [
    "print(len(users), len(ids), len(rates))"
   ]
  },
  {
   "cell_type": "markdown",
   "metadata": {},
   "source": [
    "# Colaborative filtering"
   ]
  },
  {
   "cell_type": "code",
   "execution_count": 362,
   "metadata": {},
   "outputs": [],
   "source": [
    "# load_data.py\n",
    "# This is the same data that was plotted for similarity earlier\n",
    "# with one new user \"E\" who has rated only movie 1\n",
    "ratings_dict = {\n",
    "    \"item\": ids ,\n",
    "    \"user\": users,\n",
    "    \"rating\": rates,\n",
    "}\n",
    "\n",
    "df = pd.DataFrame(ratings_dict)\n",
    "reader = Reader(rating_scale=(1, 5))\n",
    "\n",
    "# Loads Pandas dataframe\n",
    "data = Dataset.load_from_df(df[[\"user\", \"item\", \"rating\"]], reader)\n",
    "trainingSet = data.build_full_trainset()"
   ]
  },
  {
   "cell_type": "code",
   "execution_count": 378,
   "metadata": {},
   "outputs": [],
   "source": [
    "from surprise import KNNWithMeans\n",
    "\n",
    "# To use item-based cosine similarity\n",
    "sim_options = {\n",
    "    \"name\": \"cosine\",\n",
    "    \"user_based\": False,  # Compute  similarities between items\n",
    "}\n",
    "algo = KNNWithMeans(sim_options=sim_options)"
   ]
  },
  {
   "cell_type": "code",
   "execution_count": 379,
   "metadata": {},
   "outputs": [
    {
     "name": "stdout",
     "output_type": "stream",
     "text": [
      "Computing the cosine similarity matrix...\n",
      "Done computing similarity matrix.\n"
     ]
    },
    {
     "data": {
      "text/plain": [
       "Prediction(uid='A', iid=31418, r_ui=None, est=2.0375, details={'actual_k': 40, 'was_impossible': False})"
      ]
     },
     "execution_count": 379,
     "metadata": {},
     "output_type": "execute_result"
    }
   ],
   "source": [
    "algo.fit(trainingSet)\n",
    "\n",
    "predicted_rating_real = []\n",
    "\n",
    "# for i in df_male['id']:\n",
    "prediction = algo.predict('A', ids[0])\n",
    "# predicted_rating_real.append(prediction.est)\n",
    "\n",
    "prediction"
   ]
  },
  {
   "cell_type": "code",
   "execution_count": 380,
   "metadata": {},
   "outputs": [],
   "source": [
    "prediction = algo.predict('C', random.choice(ids))"
   ]
  },
  {
   "cell_type": "code",
   "execution_count": 381,
   "metadata": {},
   "outputs": [
    {
     "data": {
      "text/plain": [
       "Prediction(uid='C', iid=4766, r_ui=None, est=2.0, details={'actual_k': 0, 'was_impossible': False})"
      ]
     },
     "execution_count": 381,
     "metadata": {},
     "output_type": "execute_result"
    }
   ],
   "source": [
    "prediction"
   ]
  },
  {
   "cell_type": "code",
   "execution_count": 382,
   "metadata": {},
   "outputs": [
    {
     "name": "stdout",
     "output_type": "stream",
     "text": [
      "A loves 14275\n",
      "user: A          item: 31418      r_ui = None   est = 2.04   {'actual_k': 40, 'was_impossible': False}\n",
      "user: A          item: 28559      r_ui = None   est = 4.04   {'actual_k': 40, 'was_impossible': False}\n",
      "user: A          item: 24817      r_ui = None   est = 4.04   {'actual_k': 40, 'was_impossible': False}\n",
      "C loves 13209\n",
      "user: C          item: 31418      r_ui = None   est = 2.00   {'actual_k': 0, 'was_impossible': False}\n",
      "user: C          item: 28559      r_ui = None   est = 3.61   {'actual_k': 6, 'was_impossible': False}\n",
      "user: C          item: 24817      r_ui = None   est = 4.00   {'actual_k': 0, 'was_impossible': False}\n",
      "D loves 18626\n",
      "user: D          item: 31418      r_ui = None   est = 2.00   {'actual_k': 0, 'was_impossible': False}\n",
      "user: D          item: 28559      r_ui = None   est = 3.00   {'actual_k': 1, 'was_impossible': False}\n",
      "user: D          item: 24817      r_ui = None   est = 4.00   {'actual_k': 0, 'was_impossible': False}\n"
     ]
    }
   ],
   "source": [
    "print('A', 'loves', 14275)\n",
    "print(algo.predict('A', ids[0]))\n",
    "print(algo.predict('A', ids[1]))\n",
    "print(algo.predict('A', ids[10]))\n",
    "\n",
    "print('C', 'loves', 13209)\n",
    "print(algo.predict('C', ids[0]))\n",
    "print(algo.predict('C', ids[1]))\n",
    "print(algo.predict('C', ids[10]))\n",
    "\n",
    "print('D', 'loves', 18626)\n",
    "print(algo.predict('D', ids[0]))\n",
    "print(algo.predict('D', ids[1]))\n",
    "print(algo.predict('D', ids[10]))"
   ]
  },
  {
   "cell_type": "code",
   "execution_count": null,
   "metadata": {},
   "outputs": [],
   "source": []
  }
 ],
 "metadata": {
  "kernelspec": {
   "display_name": "Python 3",
   "language": "python",
   "name": "python3"
  },
  "language_info": {
   "codemirror_mode": {
    "name": "ipython",
    "version": 3
   },
   "file_extension": ".py",
   "mimetype": "text/x-python",
   "name": "python",
   "nbconvert_exporter": "python",
   "pygments_lexer": "ipython3",
   "version": "3.7.4"
  }
 },
 "nbformat": 4,
 "nbformat_minor": 2
}
